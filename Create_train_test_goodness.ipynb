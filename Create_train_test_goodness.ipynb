{
 "cells": [
  {
   "cell_type": "code",
   "execution_count": 1,
   "id": "354ea9cc-b6dc-4ddb-b71d-15c2ca703421",
   "metadata": {},
   "outputs": [],
   "source": [
    "import pickle\n",
    "import data_processing as dp\n",
    "import kernel as kern\n",
    "import os"
   ]
  },
  {
   "cell_type": "code",
   "execution_count": 2,
   "id": "7222e140-c748-4649-a2bc-b07f59b67f77",
   "metadata": {},
   "outputs": [
    {
     "name": "stdout",
     "output_type": "stream",
     "text": [
      "/media3/etienne/science_module_env/lib/python3.6/site-packages/numpy/lib/arraysetops.py:580: FutureWarning: elementwise comparison failed; returning scalar instead, but in the future will perform elementwise comparison\n",
      "  mask |= (ar1 == a)\n",
      "/media3/etienne/science_module_env/lib/python3.6/site-packages/numpy/lib/arraysetops.py:580: FutureWarning: elementwise comparison failed; returning scalar instead, but in the future will perform elementwise comparison\n",
      "  mask |= (ar1 == a)\n",
      "SLSN formatted\n",
      "SLSN preprocessed\n",
      "SLSN_train_w5 created\n",
      "SLSN_train_w5 preprocessed\n",
      "SLSN_train_rising created\n",
      "SLSN_train_rising preprocessed\n",
      "SLSN_wfd features have been computed succesfully\n",
      "SLSN feature extracted with bazin\n",
      "SLSN_train_w5_wfd features have been computed succesfully\n",
      "SLSN_train_w5 feature extracted with bazin\n",
      "SLSN_train_rising_wfd features have been computed succesfully\n",
      "SLSN_train_rising feature extracted with bazin\n",
      "SLSN_wfd features have been computed succesfully\n",
      "SLSN feature extracted with rainbow\n",
      "SLSN_train_w5_wfd features have been computed succesfully\n",
      "SLSN_train_w5 feature extracted with rainbow\n",
      "SLSN_train_rising_wfd features have been computed succesfully\n",
      "SLSN_train_rising feature extracted with rainbow\n",
      "SLSN COMPLETED FEATURE EXTRACTED\n"
     ]
    }
   ],
   "source": [
    "!python data_processing.py --target='SLSN' --nmax=1000 --cores=3  --database='plasticc' --field='wfd'"
   ]
  },
  {
   "cell_type": "code",
   "execution_count": null,
   "id": "7951e77e-e61c-443b-871e-88edd4ce02f0",
   "metadata": {},
   "outputs": [
    {
     "name": "stdout",
     "output_type": "stream",
     "text": [
      "/media3/etienne/science_module_env/lib/python3.6/site-packages/numpy/lib/arraysetops.py:580: FutureWarning: elementwise comparison failed; returning scalar instead, but in the future will perform elementwise comparison\n",
      "  mask |= (ar1 == a)\n",
      "/media3/etienne/science_module_env/lib/python3.6/site-packages/numpy/lib/arraysetops.py:580: FutureWarning: elementwise comparison failed; returning scalar instead, but in the future will perform elementwise comparison\n",
      "  mask |= (ar1 == a)\n"
     ]
    }
   ],
   "source": [
    "!python data_processing.py --target='Ia' --nmax=1000 --cores=3  --database='plasticc' --field='wfd'"
   ]
  },
  {
   "cell_type": "code",
   "execution_count": null,
   "id": "2075fa7c-e880-48f2-a64d-be7ebb98d0f5",
   "metadata": {},
   "outputs": [],
   "source": [
    "!python data_processing.py --target='Ibc' --nmax=1000 --cores=3  --database='plasticc' --field='wfd'"
   ]
  },
  {
   "cell_type": "code",
   "execution_count": null,
   "id": "640bbb84-5306-4cb7-9541-794109e27053",
   "metadata": {},
   "outputs": [],
   "source": [
    "!python data_processing.py --target='II' --nmax=1000 --cores=3  --database='plasticc' --field='wfd'"
   ]
  },
  {
   "cell_type": "code",
   "execution_count": null,
   "id": "b6bff987-4e3f-4ed3-85b0-7626b85173f4",
   "metadata": {},
   "outputs": [],
   "source": [
    "!python data_processing.py --target='TDE' --nmax=1000 --cores=3  --database='plasticc' --field='wfd'"
   ]
  },
  {
   "cell_type": "code",
   "execution_count": null,
   "id": "7553235f-c9d4-493d-b84f-4f6f6ee7c4fe",
   "metadata": {},
   "outputs": [],
   "source": []
  }
 ],
 "metadata": {
  "kernelspec": {
   "display_name": "Python 3",
   "language": "python",
   "name": "python3"
  },
  "language_info": {
   "codemirror_mode": {
    "name": "ipython",
    "version": 3
   },
   "file_extension": ".py",
   "mimetype": "text/x-python",
   "name": "python",
   "nbconvert_exporter": "python",
   "pygments_lexer": "ipython3",
   "version": "3.6.9"
  }
 },
 "nbformat": 4,
 "nbformat_minor": 5
}
