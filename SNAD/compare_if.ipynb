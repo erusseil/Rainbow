{
 "cells": [
  {
   "cell_type": "code",
   "execution_count": 39,
   "id": "e65b5af4-efab-4745-a17a-e61dbe91d2ee",
   "metadata": {},
   "outputs": [],
   "source": [
    "import numpy as np\n",
    "import matplotlib\n",
    "import matplotlib.pyplot as plt\n",
    "import pandas as pd\n",
    "from sklearn.ensemble import IsolationForest"
   ]
  },
  {
   "cell_type": "markdown",
   "id": "c1b06c0b-b635-494b-90d4-ea4a0912a674",
   "metadata": {},
   "source": [
    "### Create a balanced dataset "
   ]
  },
  {
   "cell_type": "code",
   "execution_count": 149,
   "id": "68a005fc-850e-49c1-9ecf-41af2d816fcd",
   "metadata": {},
   "outputs": [],
   "source": [
    "############ USER ############\n",
    "balanced = True\n",
    "cut = ''#bazin_cut_\n",
    "\n",
    "name_1 = f'ELASTICC_TRAIN_SNIa-SALT2_{cut}features'\n",
    "name_2 = f'ELASTICC_TRAIN_SNIb+HostXT_V19_{cut}features'\n",
    "############ USER ############\n",
    "\n",
    "\n",
    "# Create Bazin data\n",
    "features_1 = pd.read_parquet(f'bazin_features/{name_1}.parquet')\n",
    "features_1['target']='Ia'\n",
    "features_2 = pd.read_parquet(f'bazin_features/{name_2}.parquet')\n",
    "features_2['target']='Ib'\n",
    "\n",
    "if balanced:\n",
    "    nobj = min(len(features_1), len(features_2))\n",
    "    bazin_features = pd.concat([features_1[:nobj], features_2[:nobj]])\n",
    "    \n",
    "else:\n",
    "    bazin_features = pd.concat([features_1, features_2])\n",
    "\n",
    "    \n",
    "# Create Kostya data\n",
    "features_1 = pd.read_parquet(f'features/{name_1}.parquet')\n",
    "features_1['target']='Ia'\n",
    "features_2 = pd.read_parquet(f'features/{name_2}.parquet')\n",
    "features_2['target']='Ib'\n",
    "\n",
    "if balanced:\n",
    "    kostya_features = pd.concat([features_1[:nobj], features_2[:nobj]])\n",
    "    \n",
    "else:\n",
    "    kostya_features = pd.concat([features_1, features_2])"
   ]
  },
  {
   "cell_type": "markdown",
   "id": "5b70ebaa-32f5-43bb-aabd-9e83751b4097",
   "metadata": {},
   "source": [
    "### Add 1 % of anomalies"
   ]
  },
  {
   "cell_type": "code",
   "execution_count": 159,
   "id": "5ca76cea-3c7a-41d2-b5f2-13085cd939fc",
   "metadata": {},
   "outputs": [],
   "source": [
    "name_3 = f'ELASTICC_TRAIN_uLens-Binary_{cut}features'\n",
    "ratio_anomaly = 1\n",
    "target_ano = 'uLens-Binary'\n",
    "\n",
    "\n",
    "# Create Bazin anomalies\n",
    "features_3 = pd.read_parquet(f'bazin_features/{name_3}.parquet')\n",
    "features_3['target']=target_ano\n",
    "bazin_anomalies = pd.concat([bazin_features, features_3.sample(frac=0.01, random_state=42)], ignore_index=True)\n",
    "\n",
    "\n",
    "# Create Kostya anomalies\n",
    "features_3 = pd.read_parquet(f'features/{name_3}.parquet')\n",
    "features_3['target']=target_ano\n",
    "kostya_anomalies = pd.concat([kostya_features, features_3.sample(frac=0.01, random_state=42)], ignore_index=True)"
   ]
  },
  {
   "cell_type": "markdown",
   "id": "d3df0804-f3d4-4302-928e-78835c1274a6",
   "metadata": {},
   "source": [
    "### Use Isolation forest"
   ]
  },
  {
   "cell_type": "code",
   "execution_count": 160,
   "id": "c5f893c5-fffa-46eb-a739-d231bed139f9",
   "metadata": {},
   "outputs": [
    {
     "name": "stdout",
     "output_type": "stream",
     "text": [
      "Bazin\n",
      "0.13 % of the top 100 % score are actual uLens-Binary\n",
      "Kostya\n",
      "0.13 % of the top 100 % score are actual uLens-Binary\n"
     ]
    }
   ],
   "source": [
    "n_anomalies = int(ratio_anomaly*len(bazin_features))\n",
    "\n",
    "ano_list_bazin = [0]\n",
    "ano_list_kostya = [0]\n",
    "\n",
    "methods = [[bazin_anomalies, 'Bazin', ano_list_bazin],\\\n",
    "           [kostya_anomalies, 'Kostya', ano_list_kostya]]\n",
    "\n",
    "\n",
    "for features in methods:\n",
    "    \n",
    "    clf = IsolationForest(random_state=42).fit(features[0].iloc[:, :-1])\n",
    "    scored = features[0].copy()\n",
    "    scored['score'] = clf.decision_function(features[0].iloc[:, :-1])\n",
    "    indexes = scored.sort_values('score').iloc[:n_anomalies].index\n",
    "    anomalies = features[0].iloc[indexes]\n",
    "    \n",
    "    nb_true_anomaly = (anomalies['target']==target_ano).sum()\n",
    "    \n",
    "    print(features[1])\n",
    "    print(f'{nb_true_anomaly*100/n_anomalies:.2f} % of the top {ratio_anomaly*100} % score are actual {target_ano}')\n",
    "    \n",
    "    #Compute cumulative number of anomalies\n",
    "    \n",
    "    start = 0\n",
    "    \n",
    "    for i in anomalies['target']:\n",
    "        if i == target_ano:\n",
    "            start += 1\n",
    "        features[2].append(start)"
   ]
  },
  {
   "cell_type": "code",
   "execution_count": 161,
   "id": "c4a2a16a-fe5c-4400-93a3-b2fe07ea060c",
   "metadata": {},
   "outputs": [
    {
     "data": {
      "text/plain": [
       "<matplotlib.legend.Legend at 0x7f4ae0415048>"
      ]
     },
     "execution_count": 161,
     "metadata": {},
     "output_type": "execute_result"
    },
    {
     "data": {
      "image/png": "[encoded data removed]",
      "text/plain": [
       "<Figure size 864x576 with 1 Axes>"
      ]
     },
     "metadata": {
      "needs_background": "light"
     },
     "output_type": "display_data"
    }
   ],
   "source": [
    "x = np.arange(0, n_anomalies+1)\n",
    "\n",
    "\n",
    "plt.figure(figsize = (12,8))\n",
    "\n",
    "plt.plot(x, ano_list_bazin, label='Bazin')\n",
    "plt.plot(x, ano_list_kostya, label='Kostya')\n",
    "plt.xlabel('Number of object considered', fontsize = 15)\n",
    "plt.ylabel(f'Number of {target_ano} detected', fontsize = 15)\n",
    "plt.title(f'Cumulative number of {target_ano} detected as anomalies', fontsize = 18)\n",
    "plt.legend(fontsize=15)"
   ]
  },
  {
   "cell_type": "code",
   "execution_count": 162,
   "id": "9fcbeaf1-ee99-4f9a-9c2a-618cdd21f323",
   "metadata": {},
   "outputs": [
    {
     "data": {
      "text/plain": [
       "26336"
      ]
     },
     "execution_count": 162,
     "metadata": {},
     "output_type": "execute_result"
    }
   ],
   "source": [
    "n_anomalies"
   ]
  },
  {
   "cell_type": "code",
   "execution_count": null,
   "id": "29db07a2-92e2-47e5-a78f-7bb95cc0df92",
   "metadata": {},
   "outputs": [],
   "source": []
  }
 ],
 "metadata": {
  "kernelspec": {
   "display_name": "Python 3",
   "language": "python",
   "name": "python3"
  },
  "language_info": {
   "codemirror_mode": {
    "name": "ipython",
    "version": 3
   },
   "file_extension": ".py",
   "mimetype": "text/x-python",
   "name": "python",
   "nbconvert_exporter": "python",
   "pygments_lexer": "ipython3",
   "version": "3.6.9"
  }
 },
 "nbformat": 4,
 "nbformat_minor": 5
}
