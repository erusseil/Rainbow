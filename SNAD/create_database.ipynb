{
 "cells": [
  {
   "cell_type": "code",
   "execution_count": 19,
   "id": "03828ed2-1949-462a-bcc8-48081115818e",
   "metadata": {},
   "outputs": [],
   "source": [
    "import elasticc_for_etienne as efe\n",
    "from typing import Dict, List, Union\n",
    "import glob\n",
    "from itertools import chain\n",
    "from astropy.table import Table\n",
    "import pickle"
   ]
  },
  {
   "cell_type": "code",
   "execution_count": 68,
   "id": "bcf175df-b9f8-45c4-be79-ebc94d116b27",
   "metadata": {},
   "outputs": [],
   "source": [
    "bazin_cut = True\n",
    "\n",
    "name = 'ELASTICC_TRAIN_uLens-Binary'\n",
    "\n",
    "path = f'/media/ELAsTICC/data/training_sample/{name}'\n",
    "heads = sorted(glob.glob(f'{path}/*_HEAD.FITS.gz'))\n",
    "phots = sorted(glob.glob(f'{path}/*_PHOT.FITS.gz'))\n",
    "assert len(heads) != 0, 'no *_HEAD_FITS.gz are found'\n",
    "assert len(heads) == len(phots), 'there are different number of HEAD and PHOT files'\n",
    "\n",
    "if bazin_cut:\n",
    "    min_det_per_band = {b'g ': 4, b'r ': 4, b'i ': 4}\n",
    "    min_total_det = 12\n",
    "    \n",
    "else:\n",
    "    min_det_per_band = {b'g ': 2, b'r ': 2, b'i ': 2}\n",
    "    min_total_det = 10\n",
    "    \n",
    "has_peak = False\n",
    "\n",
    "# merge list of lists into a single list\n",
    "lcs = list(chain.from_iterable(\n",
    "    efe.parse_fits_snana(head, phot, min_det_per_band=min_det_per_band, min_total_det=min_total_det, has_peak=has_peak)\n",
    "                     for head, phot in zip(heads, phots)\n",
    "))"
   ]
  },
  {
   "cell_type": "code",
   "execution_count": 69,
   "id": "55552d9e-8ef4-4be1-9094-30cdedbbe1a4",
   "metadata": {},
   "outputs": [],
   "source": [
    "# Normallize values\n",
    "for idx, lc in enumerate(lcs):\n",
    "    \n",
    "    gband = lc[lc['BAND']=='g ']\n",
    "    \n",
    "    maxi = gband['FLUXCAL'].max()\n",
    "    lc['max_flux'] = maxi\n",
    "    t_maxi = gband['MJD'][gband['FLUXCAL'].argmax()]\n",
    "    lc['max_flux_time'] = t_maxi\n",
    "    \n",
    "    lc['FLUXCAL'] = lc['FLUXCAL']/maxi\n",
    "    lc['FLUXCALERR'] = lc['FLUXCALERR']/maxi\n",
    "    \n",
    "    lc['MJD'] = lc['MJD']-t_maxi"
   ]
  },
  {
   "cell_type": "code",
   "execution_count": 70,
   "id": "ff2f009e-b8af-479d-93a0-9d641c8671f3",
   "metadata": {},
   "outputs": [],
   "source": [
    "if bazin_cut:\n",
    "    file = f'preprocess_data/{name}_bazin_cut.pkl'\n",
    "    \n",
    "else:\n",
    "    file = f'preprocess_data/{name}.pkl'\n",
    "\n",
    "with open(file, 'wb') as handle:\n",
    "    pickle.dump(lcs, handle)"
   ]
  },
  {
   "cell_type": "code",
   "execution_count": 71,
   "id": "fd24e297-5992-491d-936e-05e8d64671b4",
   "metadata": {},
   "outputs": [
    {
     "name": "stdout",
     "output_type": "stream",
     "text": [
      "OK\n"
     ]
    }
   ],
   "source": [
    "print('OK')"
   ]
  },
  {
   "cell_type": "code",
   "execution_count": 72,
   "id": "a71690b1-05e3-4a9a-acda-0d769b66fbf1",
   "metadata": {},
   "outputs": [
    {
     "data": {
      "text/plain": [
       "3115"
      ]
     },
     "execution_count": 72,
     "metadata": {},
     "output_type": "execute_result"
    }
   ],
   "source": [
    "len(lcs)"
   ]
  },
  {
   "cell_type": "code",
   "execution_count": null,
   "id": "35e68ef1-e941-46c2-a865-e808e59a85a8",
   "metadata": {},
   "outputs": [],
   "source": []
  }
 ],
 "metadata": {
  "kernelspec": {
   "display_name": "Python 3",
   "language": "python",
   "name": "python3"
  },
  "language_info": {
   "codemirror_mode": {
    "name": "ipython",
    "version": 3
   },
   "file_extension": ".py",
   "mimetype": "text/x-python",
   "name": "python",
   "nbconvert_exporter": "python",
   "pygments_lexer": "ipython3",
   "version": "3.6.9"
  }
 },
 "nbformat": 4,
 "nbformat_minor": 5
}
