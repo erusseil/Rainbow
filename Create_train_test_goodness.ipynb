{
 "cells": [
  {
   "cell_type": "code",
   "execution_count": 1,
   "id": "354ea9cc-b6dc-4ddb-b71d-15c2ca703421",
   "metadata": {},
   "outputs": [],
   "source": [
    "import pickle\n",
    "import data_processing as dp\n",
    "import kernel as kern\n",
    "import os"
   ]
  },
  {
   "cell_type": "markdown",
   "id": "0d85be0e-1ba3-44f0-a0e0-81f4c7fde777",
   "metadata": {},
   "source": [
    "### Create train/test with time windows"
   ]
  },
  {
   "cell_type": "code",
   "execution_count": null,
   "id": "82907d4a-dfa9-411b-86a5-d7589e73cca0",
   "metadata": {},
   "outputs": [],
   "source": [
    "names = ['Ia']\n",
    "path = f'data_plasticc/preprocessed/'\n",
    "\n",
    "for name in names:\n",
    "    \n",
    "    with open(f'{path}{name}_wfd.pkl', \"rb\") as handle:\n",
    "        prepro = pickle.load(handle)\n",
    "        \n",
    "    generator = dp.train_test_cutting_generator(prepro)\n",
    "    train_test = list(generator)\n",
    "    print(name, 'DONE')\n",
    "\n",
    "    with open(f'{path}{name}_train_w{kern.point_cut_window}_wfd.pkl', \"wb\") as handle:\n",
    "        pickle.dump([x[0] for x in train_test], handle)\n",
    "        \n",
    "    with open(f'{path}{name}_test_w{kern.point_cut_window}_wfd.pkl', \"wb\") as handle:\n",
    "        pickle.dump([x[1] for x in train_test], handle)\n",
    "        \n",
    "    print(name, 'SAVED')"
   ]
  },
  {
   "cell_type": "markdown",
   "id": "29df0b73-30df-4ac6-9f24-239e3d4bbe05",
   "metadata": {},
   "source": [
    "### Create train/test with rising objects"
   ]
  },
  {
   "cell_type": "code",
   "execution_count": 2,
   "id": "cbb9b590-0e56-40a6-938d-515dcd256380",
   "metadata": {},
   "outputs": [
    {
     "name": "stdout",
     "output_type": "stream",
     "text": [
      "Ia DONE\n",
      "Ia SAVED\n",
      "Ibc DONE\n",
      "Ibc SAVED\n",
      "II DONE\n",
      "II SAVED\n"
     ]
    }
   ],
   "source": [
    "names = ['Ia', 'Ibc', 'II']\n",
    "path = f'data_plasticc/preprocessed/'\n",
    "\n",
    "for name in names:\n",
    "    \n",
    "    with open(f'{path}{name}_wfd.pkl', \"rb\") as handle:\n",
    "        prepro = pickle.load(handle)\n",
    "        \n",
    "    generator = dp.train_test_rising_cutting_generator(prepro)\n",
    "    train_test = list(generator)\n",
    "    print(name, 'DONE')\n",
    "\n",
    "    with open(f'{path}{name}_train_rising_wfd.pkl', \"wb\") as handle:\n",
    "        pickle.dump([x[0] for x in train_test], handle)\n",
    "        \n",
    "    with open(f'{path}{name}_test_rising_wfd.pkl', \"wb\") as handle:\n",
    "        pickle.dump([x[1] for x in train_test], handle)\n",
    "        \n",
    "    print(name, 'SAVED')"
   ]
  }
 ],
 "metadata": {
  "kernelspec": {
   "display_name": "Python 3",
   "language": "python",
   "name": "python3"
  },
  "language_info": {
   "codemirror_mode": {
    "name": "ipython",
    "version": 3
   },
   "file_extension": ".py",
   "mimetype": "text/x-python",
   "name": "python",
   "nbconvert_exporter": "python",
   "pygments_lexer": "ipython3",
   "version": "3.6.9"
  }
 },
 "nbformat": 4,
 "nbformat_minor": 5
}
