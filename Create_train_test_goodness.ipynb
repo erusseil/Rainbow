{
 "cells": [
  {
   "cell_type": "code",
   "execution_count": 1,
   "id": "354ea9cc-b6dc-4ddb-b71d-15c2ca703421",
   "metadata": {},
   "outputs": [],
   "source": [
    "import pickle\n",
    "import data_processing as dp\n",
    "import kernel as kern\n",
    "import os"
   ]
  },
  {
   "cell_type": "code",
   "execution_count": 2,
   "id": "7222e140-c748-4649-a2bc-b07f59b67f77",
   "metadata": {},
   "outputs": [
    {
     "name": "stdout",
     "output_type": "stream",
     "text": [
      "YSE_SNIa formatted\n",
      "YSE_SNIa preprocessed\n",
      "YSE_SNIa_train_w5 created\n",
      "YSE_SNIa_train_w5 preprocessed\n",
      "YSE_SNIa_train_rising created\n",
      "YSE_SNIa_train_rising preprocessed\n",
      "YSE_SNIa_wfd features have been computed succesfully\n",
      "YSE_SNIa feature extracted with rainbow\n",
      "YSE_SNIa_train_w5_wfd features have been computed succesfully\n",
      "YSE_SNIa_train_w5 feature extracted with rainbow\n",
      "YSE_SNIa_train_rising_wfd features have been computed succesfully\n",
      "YSE_SNIa_train_rising feature extracted with rainbow\n",
      "YSE_SNIa COMPLETED FEATURE EXTRACTED\n"
     ]
    }
   ],
   "source": [
    "!python data_processing.py --target='YSE_SNIa' --nmax=10000 --cores=3  --database='YSE' --field='wfd'"
   ]
  }
 ],
 "metadata": {
  "kernelspec": {
   "display_name": "Python 3",
   "language": "python",
   "name": "python3"
  },
  "language_info": {
   "codemirror_mode": {
    "name": "ipython",
    "version": 3
   },
   "file_extension": ".py",
   "mimetype": "text/x-python",
   "name": "python",
   "nbconvert_exporter": "python",
   "pygments_lexer": "ipython3",
   "version": "3.6.9"
  }
 },
 "nbformat": 4,
 "nbformat_minor": 5
}
